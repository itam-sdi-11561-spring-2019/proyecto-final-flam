{
 "cells": [
  {
   "cell_type": "code",
   "execution_count": 1,
   "metadata": {},
   "outputs": [],
   "source": [
    "import math"
   ]
  },
  {
   "cell_type": "code",
   "execution_count": 2,
   "metadata": {},
   "outputs": [],
   "source": [
    "from AStar3 import run_astar, heuristic, g,Node"
   ]
  },
  {
   "cell_type": "code",
   "execution_count": 3,
   "metadata": {},
   "outputs": [],
   "source": [
    "current = Node(None,position = (0,0))"
   ]
  },
  {
   "cell_type": "code",
   "execution_count": 4,
   "metadata": {},
   "outputs": [],
   "source": [
    "child = Node(None,position = (3,3))"
   ]
  },
  {
   "cell_type": "code",
   "execution_count": 5,
   "metadata": {},
   "outputs": [
    {
     "data": {
      "text/plain": [
       "4.242640687119285"
      ]
     },
     "execution_count": 5,
     "metadata": {},
     "output_type": "execute_result"
    }
   ],
   "source": [
    "g(current,child)"
   ]
  },
  {
   "cell_type": "code",
   "execution_count": 6,
   "metadata": {},
   "outputs": [
    {
     "data": {
      "text/plain": [
       "4.242640687119285"
      ]
     },
     "execution_count": 6,
     "metadata": {},
     "output_type": "execute_result"
    }
   ],
   "source": [
    "heuristic(current,child)"
   ]
  },
  {
   "cell_type": "code",
   "execution_count": 7,
   "metadata": {},
   "outputs": [],
   "source": [
    "obstacles = [(1180.71,1206.32),\n",
    "            (272,745),\n",
    "            (1533.26,-33.17),\n",
    "            (848,-311),\n",
    "            (898.45,1471.614),\n",
    "            (1571.51,-1008.25),\n",
    "            (1900,-736.86),\n",
    "            (1836.01,1271),\n",
    "            (315.69,1473.4)]\n",
    "end = (1421.43,-1534.76)\n",
    "start = (1048.18,1337.08)"
   ]
  },
  {
   "cell_type": "code",
   "execution_count": 8,
   "metadata": {},
   "outputs": [
    {
     "name": "stdout",
     "output_type": "stream",
     "text": [
      "A STAR FUNCTION\n",
      "START: (4, 6)\n",
      "END: (23, 9)\n"
     ]
    },
    {
     "data": {
      "text/plain": [
       "[(975.0, 1275.0),\n",
       " (975.0, 1125.0),\n",
       " (975.0, 975.0),\n",
       " (975.0, 825.0),\n",
       " (975.0, 675.0),\n",
       " (975.0, 525.0),\n",
       " (975.0, 375.0),\n",
       " (1125.0, 225.0),\n",
       " (1275.0, 75.0),\n",
       " (1275.0, -75.0),\n",
       " (1275.0, -225.0),\n",
       " (1275.0, -375.0),\n",
       " (1275.0, -525.0),\n",
       " (1275.0, -675.0),\n",
       " (1275.0, -825.0),\n",
       " (1275.0, -975.0),\n",
       " (1425.0, -1125.0),\n",
       " (1425.0, -1275.0),\n",
       " (1425.0, -1425.0),\n",
       " (1425.0, -1575.0)]"
      ]
     },
     "execution_count": 8,
     "metadata": {},
     "output_type": "execute_result"
    },
    {
     "data": {
      "image/png": "[encoded data removed]",
      "text/plain": [
       "<Figure size 432x288 with 1 Axes>"
      ]
     },
     "metadata": {},
     "output_type": "display_data"
    }
   ],
   "source": [
    "run_astar([],start,end)"
   ]
  },
  {
   "cell_type": "code",
   "execution_count": null,
   "metadata": {},
   "outputs": [],
   "source": []
  }
 ],
 "metadata": {
  "kernelspec": {
   "display_name": "Python 3",
   "language": "python",
   "name": "python3"
  },
  "language_info": {
   "codemirror_mode": {
    "name": "ipython",
    "version": 3
   },
   "file_extension": ".py",
   "mimetype": "text/x-python",
   "name": "python",
   "nbconvert_exporter": "python",
   "pygments_lexer": "ipython3",
   "version": "3.6.8"
  }
 },
 "nbformat": 4,
 "nbformat_minor": 2
}
