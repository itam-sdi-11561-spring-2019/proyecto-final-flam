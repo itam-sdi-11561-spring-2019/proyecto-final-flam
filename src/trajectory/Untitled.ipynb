{
 "cells": [
  {
   "cell_type": "code",
   "execution_count": 1,
   "metadata": {},
   "outputs": [],
   "source": [
    "import math"
   ]
  },
  {
   "cell_type": "code",
   "execution_count": 2,
   "metadata": {},
   "outputs": [],
   "source": [
    "from AStar3 import run_astar, heuristic, g,Node"
   ]
  },
  {
   "cell_type": "code",
   "execution_count": 3,
   "metadata": {},
   "outputs": [],
   "source": [
    "current = Node(None,position = (0,0))"
   ]
  },
  {
   "cell_type": "code",
   "execution_count": 4,
   "metadata": {},
   "outputs": [],
   "source": [
    "child = Node(None,position = (3,3))"
   ]
  },
  {
   "cell_type": "code",
   "execution_count": 5,
   "metadata": {},
   "outputs": [
    {
     "data": {
      "text/plain": [
       "18"
      ]
     },
     "execution_count": 5,
     "metadata": {},
     "output_type": "execute_result"
    }
   ],
   "source": [
    "g(current,child)"
   ]
  },
  {
   "cell_type": "code",
   "execution_count": 6,
   "metadata": {},
   "outputs": [
    {
     "data": {
      "text/plain": [
       "6"
      ]
     },
     "execution_count": 6,
     "metadata": {},
     "output_type": "execute_result"
    }
   ],
   "source": [
    "heuristic(current,child)"
   ]
  },
  {
   "cell_type": "code",
   "execution_count": 7,
   "metadata": {},
   "outputs": [],
   "source": [
    "obstacles = [(1180.71,1206.32),\n",
    "            (272,745),\n",
    "            (1533.26,-33.17),\n",
    "            (848,-311),\n",
    "            (898.45,1471.614),\n",
    "            (1571.51,-1008.25),\n",
    "            (1900,-736.86),\n",
    "            (1836.01,1271),\n",
    "            (315.69,1473.4)]\n",
    "end = (1421.43,-1534.76)\n",
    "start = (1048.18,1337.08)"
   ]
  },
  {
   "cell_type": "code",
   "execution_count": 8,
   "metadata": {},
   "outputs": [
    {
     "name": "stdout",
     "output_type": "stream",
     "text": [
      "\n",
      "Obstacle 0\n",
      "(1180.71, 1206.32)\n",
      "(4, 7)\n",
      "Position (3, 6) is 1\n",
      "Position (3, 7) is 1\n",
      "Position (3, 8) is 1\n",
      "Position (4, 6) is 1\n",
      "Position (4, 8) is 0\n",
      "Position (5, 6) is 1\n",
      "Position (5, 7) is 0\n",
      "Position (5, 8) is 0\n",
      "\n",
      "Obstacle 1\n",
      "(272, 745)\n",
      "(8, 1)\n",
      "Position (7, 0) is 1\n",
      "Position (7, 1) is 0\n",
      "Position (7, 2) is 0\n",
      "Position (8, 0) is 1\n",
      "Position (8, 2) is 0\n",
      "Position (9, 0) is 1\n",
      "Position (9, 1) is 1\n",
      "Position (9, 2) is 1\n",
      "\n",
      "Obstacle 2\n",
      "(1533.26, -33.17)\n",
      "(13, 10)\n",
      "Position (12, 9) is 1\n",
      "Position (12, 10) is 0\n",
      "Position (12, 11) is 1\n",
      "Position (13, 9) is 0\n",
      "Position (13, 11) is 1\n",
      "Position (14, 9) is 1\n",
      "Position (14, 10) is 1\n",
      "Position (14, 11) is 1\n",
      "\n",
      "Obstacle 3\n",
      "(848, -311)\n",
      "(15, 5)\n",
      "Position (14, 4) is 1\n",
      "Position (14, 5) is 0\n",
      "Position (14, 6) is 1\n",
      "Position (15, 4) is 1\n",
      "Position (15, 6) is 0\n",
      "Position (16, 4) is 1\n",
      "Position (16, 5) is 1\n",
      "Position (16, 6) is 1\n",
      "\n",
      "Obstacle 4\n",
      "(898.45, 1471.614)\n",
      "(3, 5)\n",
      "Position (2, 4) is 1\n",
      "Position (2, 5) is 0\n",
      "Position (2, 6) is 0\n",
      "Position (3, 4) is 1\n",
      "Position (3, 6) is 0\n",
      "Position (4, 4) is 1\n",
      "Position (4, 5) is 1\n",
      "Position (4, 6) is 1\n",
      "\n",
      "Obstacle 5\n",
      "(1571.51, -1008.25)\n",
      "(19, 10)\n",
      "Position (18, 9) is 1\n",
      "Position (18, 10) is 1\n",
      "Position (18, 11) is 1\n",
      "Position (19, 9) is 1\n",
      "Position (19, 11) is 1\n",
      "Position (20, 9) is 1\n",
      "Position (20, 10) is 0\n",
      "Position (20, 11) is 1\n",
      "\n",
      "Obstacle 6\n",
      "(1900, -736.86)\n",
      "(17, 12)\n",
      "Position (16, 11) is 1\n",
      "Position (16, 12) is 1\n",
      "Position (16, 13) is 1\n",
      "Position (17, 11) is 1\n",
      "Position (17, 13) is 0\n",
      "Position (18, 11) is 1\n",
      "Position (18, 12) is 0\n",
      "Position (18, 13) is 1\n",
      "\n",
      "Obstacle 7\n",
      "(1836.01, 1271)\n",
      "(4, 12)\n",
      "Position (3, 11) is 1\n",
      "Position (3, 12) is 1\n",
      "Position (3, 13) is 1\n",
      "Position (4, 11) is 0\n",
      "Position (4, 13) is 1\n",
      "Position (5, 11) is 1\n",
      "Position (5, 12) is 1\n",
      "Position (5, 13) is 1\n",
      "\n",
      "Obstacle 8\n",
      "(315.69, 1473.4)\n",
      "(3, 2)\n",
      "Position (2, 1) is 0\n",
      "Position (2, 2) is 0\n",
      "Position (2, 3) is 1\n",
      "Position (3, 1) is 0\n",
      "Position (3, 3) is 1\n",
      "Position (4, 1) is 1\n",
      "Position (4, 2) is 1\n",
      "Position (4, 3) is 1\n",
      "A STAR FUNCTION\n",
      "START: (4, 6)\n",
      "END: (23, 9)\n"
     ]
    },
    {
     "ename": "KeyboardInterrupt",
     "evalue": "",
     "output_type": "error",
     "traceback": [
      "\u001b[0;31m---------------------------------------------------------------------------\u001b[0m",
      "\u001b[0;31mKeyboardInterrupt\u001b[0m                         Traceback (most recent call last)",
      "\u001b[0;32m<ipython-input-8-d1e42447e973>\u001b[0m in \u001b[0;36m<module>\u001b[0;34m()\u001b[0m\n\u001b[0;32m----> 1\u001b[0;31m \u001b[0mrun_astar\u001b[0m\u001b[0;34m(\u001b[0m\u001b[0mobstacles\u001b[0m\u001b[0;34m,\u001b[0m\u001b[0mstart\u001b[0m\u001b[0;34m,\u001b[0m\u001b[0mend\u001b[0m\u001b[0;34m)\u001b[0m\u001b[0;34m\u001b[0m\u001b[0;34m\u001b[0m\u001b[0m\n\u001b[0m",
      "\u001b[0;32m~/Desktop/ITAM/8semestre/Mecatronica/proyecto-final-flam/src/trajectory/AStar3.py\u001b[0m in \u001b[0;36mrun_astar\u001b[0;34m(obstacles, start, end)\u001b[0m\n\u001b[1;32m    264\u001b[0m     \u001b[0mprint_path\u001b[0m\u001b[0;34m(\u001b[0m\u001b[0mmaze\u001b[0m\u001b[0;34m,\u001b[0m\u001b[0;34m[\u001b[0m\u001b[0;34m]\u001b[0m\u001b[0;34m,\u001b[0m\u001b[0mstart_pos\u001b[0m\u001b[0;34m,\u001b[0m\u001b[0mend_pos\u001b[0m\u001b[0;34m,\u001b[0m \u001b[0;34m'og.png'\u001b[0m\u001b[0;34m)\u001b[0m\u001b[0;34m\u001b[0m\u001b[0;34m\u001b[0m\u001b[0m\n\u001b[1;32m    265\u001b[0m \u001b[0;34m\u001b[0m\u001b[0m\n\u001b[0;32m--> 266\u001b[0;31m     \u001b[0mpath\u001b[0m \u001b[0;34m=\u001b[0m \u001b[0mastar\u001b[0m\u001b[0;34m(\u001b[0m\u001b[0mmaze\u001b[0m\u001b[0;34m,\u001b[0m \u001b[0mstart_pos\u001b[0m\u001b[0;34m,\u001b[0m \u001b[0mend_pos\u001b[0m\u001b[0;34m)\u001b[0m\u001b[0;34m\u001b[0m\u001b[0;34m\u001b[0m\u001b[0m\n\u001b[0m\u001b[1;32m    267\u001b[0m \u001b[0;34m\u001b[0m\u001b[0m\n\u001b[1;32m    268\u001b[0m     \u001b[0mprint_path\u001b[0m\u001b[0;34m(\u001b[0m\u001b[0mmaze\u001b[0m\u001b[0;34m,\u001b[0m\u001b[0mpath\u001b[0m\u001b[0;34m,\u001b[0m\u001b[0mstart_pos\u001b[0m\u001b[0;34m,\u001b[0m\u001b[0mend_pos\u001b[0m\u001b[0;34m,\u001b[0m \u001b[0;34m'solved.png'\u001b[0m\u001b[0;34m)\u001b[0m\u001b[0;34m\u001b[0m\u001b[0;34m\u001b[0m\u001b[0m\n",
      "\u001b[0;32m~/Desktop/ITAM/8semestre/Mecatronica/proyecto-final-flam/src/trajectory/AStar3.py\u001b[0m in \u001b[0;36mastar\u001b[0;34m(maze, start, end)\u001b[0m\n\u001b[1;32m    239\u001b[0m             \u001b[0;31m# Child is already in the open list\u001b[0m\u001b[0;34m\u001b[0m\u001b[0;34m\u001b[0m\u001b[0;34m\u001b[0m\u001b[0m\n\u001b[1;32m    240\u001b[0m             \u001b[0;32mfor\u001b[0m \u001b[0mopen_node\u001b[0m \u001b[0;32min\u001b[0m \u001b[0mopen_list\u001b[0m\u001b[0;34m:\u001b[0m\u001b[0;34m\u001b[0m\u001b[0;34m\u001b[0m\u001b[0m\n\u001b[0;32m--> 241\u001b[0;31m                 \u001b[0;32mif\u001b[0m \u001b[0mchild\u001b[0m \u001b[0;34m==\u001b[0m \u001b[0mopen_node\u001b[0m \u001b[0;32mand\u001b[0m \u001b[0mchild\u001b[0m\u001b[0;34m.\u001b[0m\u001b[0mg\u001b[0m \u001b[0;34m>\u001b[0m \u001b[0mopen_node\u001b[0m\u001b[0;34m.\u001b[0m\u001b[0mg\u001b[0m\u001b[0;34m:\u001b[0m\u001b[0;34m\u001b[0m\u001b[0;34m\u001b[0m\u001b[0m\n\u001b[0m\u001b[1;32m    242\u001b[0m                     \u001b[0;32mcontinue\u001b[0m\u001b[0;34m\u001b[0m\u001b[0;34m\u001b[0m\u001b[0m\n\u001b[1;32m    243\u001b[0m \u001b[0;34m\u001b[0m\u001b[0m\n",
      "\u001b[0;32m~/Desktop/ITAM/8semestre/Mecatronica/proyecto-final-flam/src/trajectory/AStar3.py\u001b[0m in \u001b[0;36m__eq__\u001b[0;34m(self, other)\u001b[0m\n\u001b[1;32m    155\u001b[0m         \u001b[0mself\u001b[0m\u001b[0;34m.\u001b[0m\u001b[0mf\u001b[0m \u001b[0;34m=\u001b[0m \u001b[0;36m0\u001b[0m\u001b[0;34m\u001b[0m\u001b[0;34m\u001b[0m\u001b[0m\n\u001b[1;32m    156\u001b[0m \u001b[0;34m\u001b[0m\u001b[0m\n\u001b[0;32m--> 157\u001b[0;31m     \u001b[0;32mdef\u001b[0m \u001b[0m__eq__\u001b[0m\u001b[0;34m(\u001b[0m\u001b[0mself\u001b[0m\u001b[0;34m,\u001b[0m \u001b[0mother\u001b[0m\u001b[0;34m)\u001b[0m\u001b[0;34m:\u001b[0m\u001b[0;34m\u001b[0m\u001b[0;34m\u001b[0m\u001b[0m\n\u001b[0m\u001b[1;32m    158\u001b[0m         \u001b[0;32mreturn\u001b[0m \u001b[0mself\u001b[0m\u001b[0;34m.\u001b[0m\u001b[0mposition\u001b[0m \u001b[0;34m==\u001b[0m \u001b[0mother\u001b[0m\u001b[0;34m.\u001b[0m\u001b[0mposition\u001b[0m\u001b[0;34m\u001b[0m\u001b[0;34m\u001b[0m\u001b[0m\n\u001b[1;32m    159\u001b[0m \u001b[0;34m\u001b[0m\u001b[0m\n",
      "\u001b[0;31mKeyboardInterrupt\u001b[0m: "
     ]
    },
    {
     "data": {
      "image/png": "[encoded data removed]",
      "text/plain": [
       "<Figure size 432x288 with 1 Axes>"
      ]
     },
     "metadata": {},
     "output_type": "display_data"
    }
   ],
   "source": [
    "run_astar(obstacles,start,end)"
   ]
  },
  {
   "cell_type": "code",
   "execution_count": null,
   "metadata": {},
   "outputs": [],
   "source": []
  }
 ],
 "metadata": {
  "kernelspec": {
   "display_name": "Python 3",
   "language": "python",
   "name": "python3"
  },
  "language_info": {
   "codemirror_mode": {
    "name": "ipython",
    "version": 3
   },
   "file_extension": ".py",
   "mimetype": "text/x-python",
   "name": "python",
   "nbconvert_exporter": "python",
   "pygments_lexer": "ipython3",
   "version": "3.6.8"
  }
 },
 "nbformat": 4,
 "nbformat_minor": 2
}
