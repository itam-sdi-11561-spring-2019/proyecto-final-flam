{
 "cells": [
  {
   "cell_type": "code",
   "execution_count": 1,
   "metadata": {},
   "outputs": [],
   "source": [
    "import numpy as np"
   ]
  },
  {
   "cell_type": "code",
   "execution_count": 4,
   "metadata": {},
   "outputs": [
    {
     "data": {
      "text/plain": [
       "2.0"
      ]
     },
     "execution_count": 4,
     "metadata": {},
     "output_type": "execute_result"
    }
   ],
   "source": [
    "np.sqrt(4)"
   ]
  },
  {
   "cell_type": "code",
   "execution_count": 31,
   "metadata": {},
   "outputs": [],
   "source": [
    "def colision_chafa(init, fin, obs):\n",
    "    a,c = get_recta(init, fin)\n",
    "    b = 1\n",
    "    choque = False\n",
    "    obstacles = list(obs.values())\n",
    "    n = len(obstacles)\n",
    "    i = 0\n",
    "    \n",
    "    while not choque and i < n:\n",
    "        choque = abs(a*obstacles[i][0] + b*obstacles[i][1] + c)/np.sqrt(np.power(a,2) + 1) <= 165\n",
    "        print(abs(a*obstacles[i][0] + b*obstacles[i][1] + c)/np.sqrt(np.power(a,2) + 1))\n",
    "        i += 1\n",
    "    \n",
    "    return choque\n",
    "        "
   ]
  },
  {
   "cell_type": "code",
   "execution_count": 32,
   "metadata": {},
   "outputs": [],
   "source": [
    "def get_recta(inicio, fin):\n",
    "    a = (fin[1] - inicio[1])/(fin[0] - inicio[0])\n",
    "    c = inicio[1] - a*inicio[0]\n",
    "    \n",
    "    return -a,-c"
   ]
  },
  {
   "cell_type": "code",
   "execution_count": 38,
   "metadata": {},
   "outputs": [],
   "source": [
    "init = [20,80]\n",
    "fin = [180,180]\n",
    "\n",
    "obstacles = {\"b1\": [180,0]}"
   ]
  },
  {
   "cell_type": "code",
   "execution_count": 39,
   "metadata": {},
   "outputs": [
    {
     "name": "stdout",
     "output_type": "stream",
     "text": [
      "152.63969472091586\n"
     ]
    },
    {
     "data": {
      "text/plain": [
       "True"
      ]
     },
     "execution_count": 39,
     "metadata": {},
     "output_type": "execute_result"
    }
   ],
   "source": [
    "colision_chafa(init,fin,obstacles)"
   ]
  },
  {
   "cell_type": "code",
   "execution_count": 37,
   "metadata": {},
   "outputs": [
    {
     "data": {
      "text/plain": [
       "(-0.625, -67.5)"
      ]
     },
     "execution_count": 37,
     "metadata": {},
     "output_type": "execute_result"
    }
   ],
   "source": [
    "get_recta(init,fin)"
   ]
  },
  {
   "cell_type": "code",
   "execution_count": null,
   "metadata": {},
   "outputs": [],
   "source": [
    "    "
   ]
  }
 ],
 "metadata": {
  "kernelspec": {
   "display_name": "Python 3",
   "language": "python",
   "name": "python3"
  },
  "language_info": {
   "codemirror_mode": {
    "name": "ipython",
    "version": 3
   },
   "file_extension": ".py",
   "mimetype": "text/x-python",
   "name": "python",
   "nbconvert_exporter": "python",
   "pygments_lexer": "ipython3",
   "version": "3.6.8"
  }
 },
 "nbformat": 4,
 "nbformat_minor": 2
}
