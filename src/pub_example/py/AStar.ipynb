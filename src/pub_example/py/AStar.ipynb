{
 "cells": [
  {
   "cell_type": "code",
   "execution_count": 1,
   "metadata": {},
   "outputs": [],
   "source": [
    "import numpy as np\n",
    "import seaborn as sns\n",
    "import math"
   ]
  },
  {
   "cell_type": "code",
   "execution_count": 2,
   "metadata": {},
   "outputs": [],
   "source": [
    "x = 2000\n",
    "y = 3200\n",
    "\n",
    "finesse = 150\n",
    "width = math.ceil(150/finesse)\n",
    "\n",
    "m = math.floor(y/finesse)\n",
    "n = math.floor(x/finesse)\n",
    "\n",
    "top = (m*finesse)/2\n",
    "\n",
    "maze = np.ones(shape = (m,n))\n",
    "\n",
    "cmap = \"GnBu\""
   ]
  },
  {
   "cell_type": "code",
   "execution_count": 25,
   "metadata": {},
   "outputs": [],
   "source": [
    "def print_path(maze,path,start,end):\n",
    "    final_maze = maze.copy()\n",
    "    \n",
    "    for p in path:\n",
    "        final_maze[p[0]][p[1]] = 0.5\n",
    "        \n",
    "    final_maze[start[0]][start[1]] = 0.8\n",
    "    final_maze[end[0]][end[1]] = 0.6\n",
    "    \n",
    "    sns.heatmap(final_maze, linewidths = 0.01, cmap = cmap)"
   ]
  },
  {
   "cell_type": "code",
   "execution_count": 4,
   "metadata": {},
   "outputs": [],
   "source": [
    "def get_neighbors():\n",
    "    neighbors = []\n",
    "    \n",
    "    for x in range(-width,width+1):\n",
    "        for y in range(-width,width+1):\n",
    "            neighbors.append((x,y))\n",
    "    \n",
    "    neighbors.remove((0,0))\n",
    "    return neighbors"
   ]
  },
  {
   "cell_type": "code",
   "execution_count": 5,
   "metadata": {},
   "outputs": [],
   "source": [
    "class Node():\n",
    "    \"\"\"A node class for A* Pathfinding\"\"\"\n",
    "\n",
    "    def __init__(self, parent=None, position=None):\n",
    "        self.parent = parent\n",
    "        self.position = position\n",
    "\n",
    "        self.g = 0\n",
    "        self.h = 0\n",
    "        self.f = 0\n",
    "\n",
    "    def __eq__(self, other):\n",
    "        return self.position == other.position"
   ]
  },
  {
   "cell_type": "code",
   "execution_count": 27,
   "metadata": {},
   "outputs": [],
   "source": [
    "def astar(maze, start, end):\n",
    "    start_node = Node(None, position = start)\n",
    "    start_node.g = start_node.h = start_node.f = 0\n",
    "    end_node = Node(None, position = end)\n",
    "    end_node.g = end_node.h = end_node.f = 0\n",
    "    \n",
    "    open_list = []\n",
    "    closed_list = []\n",
    "    \n",
    "    open_list.append(start_node)\n",
    "    \n",
    "    while len(open_list) > 0:\n",
    "        \n",
    "        current_node = open_list[0]\n",
    "        current_index = 0\n",
    "        \n",
    "        #Find the best node\n",
    "        for index,item in enumerate(open_list):\n",
    "            if item.f < current_node.f:\n",
    "                current_node = item\n",
    "                current_index = index\n",
    "                \n",
    "        #Pop current node and add to closed list\n",
    "        open_list.pop(current_index)\n",
    "        closed_list.append(current_node)\n",
    "        \n",
    "        #Finished\n",
    "        if current_node == end_node:\n",
    "            path = []\n",
    "            current = current_node\n",
    "            \n",
    "            while current is not None:\n",
    "                path.append(current.position)\n",
    "                current = current.parent\n",
    "                \n",
    "            return path[::-1] #Return reversed path\n",
    "        \n",
    "        #Generate children\n",
    "        children = []\n",
    "        \n",
    "        for new_position in [(0,-1),(0,1),(1,0),(-1,0),(-1,1),(-1,-1),(1,-1),(1,1)]:\n",
    "            \n",
    "            #Get node position\n",
    "            node_position = (current_node.position[0] + new_position[0], current_node.position[1] + new_position[1])\n",
    "            \n",
    "            if node_position[0] > (len(maze) - 1) or node_position[0] < 0 or node_position[1] > (len(maze[0]) - 1) or node_position[1] < 0:\n",
    "                continue\n",
    "                \n",
    "            # Make sure walkable terrain\n",
    "            if maze[node_position[0]][node_position[1]] != 1:\n",
    "                continue\n",
    "\n",
    "            # Create new node\n",
    "            new_node = Node(current_node, node_position)\n",
    "\n",
    "            # Append\n",
    "            children.append(new_node)\n",
    "            \n",
    "\n",
    "        # Loop through children\n",
    "        for child in children:\n",
    "\n",
    "            # Child is on the closed list\n",
    "            for closed_child in closed_list:\n",
    "                if child == closed_child:\n",
    "                    continue\n",
    "\n",
    "            # Create the f, g, and h values\n",
    "            child.g = current_node.g + 1\n",
    "            child.h = heuristic(child,end_node)\n",
    "            child.f = child.g + child.h\n",
    "\n",
    "            # Child is already in the open list\n",
    "            for open_node in open_list:\n",
    "                if child == open_node and child.g > open_node.g:\n",
    "                    continue\n",
    "\n",
    "            # Add the child to the open list\n",
    "            open_list.append(child)\n",
    "                "
   ]
  },
  {
   "cell_type": "code",
   "execution_count": 7,
   "metadata": {},
   "outputs": [],
   "source": [
    "def heuristic(current, end):\n",
    "    h = ((current.position[0] - end.position[0]) ** 2) + ((current.position[1] - end.position[1]) ** 2)\n",
    "    #h = np.abs(current.position[0] - end.position[0]) + np.abs(current.position[1] - end.position[1])\n",
    "    return h"
   ]
  },
  {
   "cell_type": "code",
   "execution_count": 8,
   "metadata": {},
   "outputs": [],
   "source": [
    "def map_position(position):\n",
    "    j = math.floor(position[0]/finesse)\n",
    "    i = math.floor((-position[1]+top)/finesse)\n",
    "    \n",
    "    return i,j"
   ]
  },
  {
   "cell_type": "code",
   "execution_count": 9,
   "metadata": {},
   "outputs": [],
   "source": [
    "def map_inverse(matrix_pos):\n",
    "    \n",
    "    half = finesse/2\n",
    "    \n",
    "    x = (matrix_pos[1]*finesse) + half\n",
    "    y = top - (matrix_pos[0]*finesse) - half\n",
    "    \n",
    "    return x,y"
   ]
  },
  {
   "cell_type": "code",
   "execution_count": 10,
   "metadata": {},
   "outputs": [],
   "source": [
    "def is_blocked(obstacle, matrix_pos):\n",
    "    x,y = map_inverse(matrix_pos)\n",
    "    \n",
    "    distance = np.sqrt(np.power(x - obstacle[0],2) + np.power(y - obstacle[1],2))\n",
    "    \n",
    "    return 1 if distance > 150 else 0 "
   ]
  },
  {
   "cell_type": "code",
   "execution_count": 11,
   "metadata": {},
   "outputs": [],
   "source": [
    "def check_neighbors(obstacle):\n",
    "    global maze\n",
    "    center_pos = map_position(obstacle)\n",
    "    \n",
    "    maze[center_pos[0]][center_pos[1]] = 0.3\n",
    "    print(center_pos)\n",
    "    \n",
    "    for new_position in get_neighbors():\n",
    "        #Get node position\n",
    "        pos = (center_pos[0] + new_position[0], center_pos[1] + new_position[1])\n",
    "\n",
    "        if pos[0] > (len(maze) - 1) or pos[0] < 0 or pos[1] > (len(maze[0]) - 1) or pos[1] < 0:\n",
    "            print('continue')\n",
    "            continue\n",
    "            \n",
    "        res = is_blocked(obstacle, pos) \n",
    "        \n",
    "        print('Position {} is {}'.format(pos,res))\n",
    "            \n",
    "        maze[pos[0]][pos[1]] = res    \n",
    "        "
   ]
  },
  {
   "cell_type": "code",
   "execution_count": 17,
   "metadata": {},
   "outputs": [
    {
     "data": {
      "text/plain": [
       "<matplotlib.axes._subplots.AxesSubplot at 0x10e557cc0>"
      ]
     },
     "execution_count": 17,
     "metadata": {},
     "output_type": "execute_result"
    },
    {
     "data": {
      "image/png": "[encoded data removed]",
      "text/plain": [
       "<Figure size 432x288 with 2 Axes>"
      ]
     },
     "metadata": {},
     "output_type": "display_data"
    }
   ],
   "source": [
    "sns.heatmap(maze, linewidths = 0.01, vmin =0, vmax = 1, cmap=cmap)"
   ]
  },
  {
   "cell_type": "code",
   "execution_count": 15,
   "metadata": {},
   "outputs": [],
   "source": [
    "obstacles = [(1180.71,1206.32),\n",
    "            (272,745),\n",
    "            (1533.26,-33.17),\n",
    "            (848,-311),\n",
    "            (898.45,1471.614),\n",
    "            (1571.51,-1008.25),\n",
    "            (1900,-736.86),\n",
    "            (1836.01,1271),\n",
    "            (315.69,1473.4)]"
   ]
  },
  {
   "cell_type": "code",
   "execution_count": 16,
   "metadata": {},
   "outputs": [
    {
     "name": "stdout",
     "output_type": "stream",
     "text": [
      "\n",
      "Obstacle 0\n",
      "(2, 7)\n",
      "Position (1, 6) is 1\n",
      "Position (1, 7) is 1\n",
      "Position (1, 8) is 1\n",
      "Position (2, 6) is 1\n",
      "Position (2, 8) is 0\n",
      "Position (3, 6) is 1\n",
      "Position (3, 7) is 1\n",
      "Position (3, 8) is 1\n",
      "\n",
      "Obstacle 1\n",
      "(5, 1)\n",
      "Position (4, 0) is 1\n",
      "Position (4, 1) is 1\n",
      "Position (4, 2) is 1\n",
      "Position (5, 0) is 1\n",
      "Position (5, 2) is 0\n",
      "Position (6, 0) is 1\n",
      "Position (6, 1) is 1\n",
      "Position (6, 2) is 1\n",
      "\n",
      "Obstacle 2\n",
      "(10, 10)\n",
      "Position (9, 9) is 1\n",
      "Position (9, 10) is 1\n",
      "Position (9, 11) is 1\n",
      "Position (10, 9) is 0\n",
      "Position (10, 11) is 1\n",
      "Position (11, 9) is 1\n",
      "Position (11, 10) is 0\n",
      "Position (11, 11) is 1\n",
      "\n",
      "Obstacle 3\n",
      "(12, 5)\n",
      "Position (11, 4) is 1\n",
      "Position (11, 5) is 1\n",
      "Position (11, 6) is 1\n",
      "Position (12, 4) is 1\n",
      "Position (12, 6) is 0\n",
      "Position (13, 4) is 1\n",
      "Position (13, 5) is 0\n",
      "Position (13, 6) is 1\n",
      "\n",
      "Obstacle 4\n",
      "(0, 5)\n",
      "continue\n",
      "continue\n",
      "continue\n",
      "Position (0, 4) is 1\n",
      "Position (0, 6) is 0\n",
      "Position (1, 4) is 1\n",
      "Position (1, 5) is 0\n",
      "Position (1, 6) is 0\n",
      "\n",
      "Obstacle 5\n",
      "(17, 10)\n",
      "Position (16, 9) is 1\n",
      "Position (16, 10) is 0\n",
      "Position (16, 11) is 1\n",
      "Position (17, 9) is 1\n",
      "Position (17, 11) is 1\n",
      "Position (18, 9) is 1\n",
      "Position (18, 10) is 1\n",
      "Position (18, 11) is 1\n",
      "\n",
      "Obstacle 6\n",
      "(15, 12)\n",
      "Position (14, 11) is 1\n",
      "Position (14, 12) is 0\n",
      "continue\n",
      "Position (15, 11) is 1\n",
      "continue\n",
      "Position (16, 11) is 1\n",
      "Position (16, 12) is 1\n",
      "continue\n",
      "\n",
      "Obstacle 7\n",
      "(2, 12)\n",
      "Position (1, 11) is 0\n",
      "Position (1, 12) is 0\n",
      "continue\n",
      "Position (2, 11) is 0\n",
      "continue\n",
      "Position (3, 11) is 1\n",
      "Position (3, 12) is 1\n",
      "continue\n",
      "\n",
      "Obstacle 8\n",
      "(0, 2)\n",
      "continue\n",
      "continue\n",
      "continue\n",
      "Position (0, 1) is 0\n",
      "Position (0, 3) is 1\n",
      "Position (1, 1) is 1\n",
      "Position (1, 2) is 0\n",
      "Position (1, 3) is 1\n"
     ]
    }
   ],
   "source": [
    "for index,obstacle in enumerate(obstacles):\n",
    "    print('\\nObstacle {}'.format(index))\n",
    "    check_neighbors(obstacle)"
   ]
  },
  {
   "cell_type": "code",
   "execution_count": 18,
   "metadata": {},
   "outputs": [],
   "source": [
    "end = (1421.43,-1534.76)"
   ]
  },
  {
   "cell_type": "code",
   "execution_count": 19,
   "metadata": {},
   "outputs": [],
   "source": [
    "start = (1048.18,1337.08)"
   ]
  },
  {
   "cell_type": "code",
   "execution_count": 20,
   "metadata": {},
   "outputs": [],
   "source": [
    "start_pos = map_position(start)"
   ]
  },
  {
   "cell_type": "code",
   "execution_count": 21,
   "metadata": {},
   "outputs": [],
   "source": [
    "end_pos = map_position(end)"
   ]
  },
  {
   "cell_type": "code",
   "execution_count": 28,
   "metadata": {},
   "outputs": [],
   "source": [
    "path = astar(maze, start_pos, end_pos)"
   ]
  },
  {
   "cell_type": "code",
   "execution_count": 29,
   "metadata": {},
   "outputs": [
    {
     "data": {
      "image/png": "[encoded data removed]",
      "text/plain": [
       "<Figure size 432x288 with 2 Axes>"
      ]
     },
     "metadata": {},
     "output_type": "display_data"
    }
   ],
   "source": [
    "print_path(maze,path,start_pos,end_pos)"
   ]
  },
  {
   "cell_type": "code",
   "execution_count": null,
   "metadata": {},
   "outputs": [],
   "source": []
  }
 ],
 "metadata": {
  "kernelspec": {
   "display_name": "Python 3",
   "language": "python",
   "name": "python3"
  },
  "language_info": {
   "codemirror_mode": {
    "name": "ipython",
    "version": 3
   },
   "file_extension": ".py",
   "mimetype": "text/x-python",
   "name": "python",
   "nbconvert_exporter": "python",
   "pygments_lexer": "ipython3",
   "version": "3.6.8"
  }
 },
 "nbformat": 4,
 "nbformat_minor": 2
}
